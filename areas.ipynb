{
 "cells": [
  {
   "cell_type": "code",
   "execution_count": null,
   "metadata": {},
   "outputs": [],
   "source": [
    "#librerias python\n",
    "from sympy import sympify\n",
    "from numpy import array,pi,sqrt,append,round\n",
    "print(\"hola mundo\")"
   ]
  },
  {
   "cell_type": "code",
   "execution_count": 10,
   "metadata": {},
   "outputs": [],
   "source": [
    "#crea una funcion para hallar el area de un triangulo por coordenadas de cada punto.\n",
    "def area_triangulo(puntos):\n",
    "    x1,y1,x2,y2,x3,y3=puntos\n",
    "    a=abs(x1*(y2-y3)+x2*(y3-y1)+x3*(y1-y2))/2\n",
    "    return a\n",
    "#crea una funcion para hallar el centroide un triangulo por coordenadas de cada punto.\n",
    "def centroide_triangulo(puntos):\n",
    "    x1,y1,x2,y2,x3,y3=puntos\n",
    "    x=(x1+x2+x3)/3\n",
    "    y=(y1+y2+y3)/3\n",
    "    return x,y\n",
    "#crea una funcion para hallar el area de un cuadrado por coordenadas de cada punto.\n",
    "def area_cuadrado(puntos):\n",
    "    x1,y1,x2,y2,x3,y3,x4,y4=puntos\n",
    "    a=abs(x1*(y2-y3)+x2*(y3-y1)+x3*(y1-y2))\n",
    "    return a\n",
    "#crea una funcion para hallar el centroide un cuadrado por coordenadas de cada punto.\n",
    "def centroide_cuadrado(puntos):\n",
    "    x1,y1,x2,y2,x3,y3,x4,y4=puntos\n",
    "    x=(x1+x2+x3+x4)/4\n",
    "    y=(y1+y2+y3+y4)/4\n",
    "    return x,y\n"
   ]
  },
  {
   "cell_type": "code",
   "execution_count": 75,
   "metadata": {},
   "outputs": [
    {
     "name": "stdout",
     "output_type": "stream",
     "text": [
      "1).Agregar area\n",
      "2).quitar area\n",
      "3).terminar\n",
      "-------------------\n",
      "El area total es:  0\n",
      "El centroide actual: [0 0]\n",
      "-------------------------------\n",
      "el area del triangulo es:  252\n",
      "el centroide del triangulo es:  [2 8]\n",
      "la multiplicacion es:  [504 2016]\n",
      "-------------------------------\n",
      "el area del cuadrado es:  1344\n",
      "el centroide del cuadrado es:  [3 28]\n",
      "la multiplicacion es:  [4032 37632]\n",
      "-------------------------------\n",
      "el area total es:  1596\n",
      "el centroide actual es : [ 2.842 24.842]\n",
      "-------------------------------\n"
     ]
    }
   ],
   "source": [
    "print(\"1).Agregar area\")\n",
    "print(\"2).quitar area\")\n",
    "print(\"3).terminar\")\n",
    "print(\"-------------------\")\n",
    "Atotal=0\n",
    "print(\"El area total es: \",Atotal)\n",
    "centroide=array([0,0])\n",
    "print(\"El centroide actual:\",centroide)\n",
    "SumaXYi=0\n",
    "In=0\n",
    "print(\"-------------------------------\")\n",
    "while In==0:\n",
    "    op=int(input(\"ingrese una opcion: \"))\n",
    "    if op==1:\n",
    "        x=array(sympify(input(\"ingrese una expresion: \")))\n",
    "        if len(x)==8:\n",
    "            A=area_cuadrado(x)\n",
    "            Atotal=Atotal+A\n",
    "            print(\"el area del cuadrado es: \",A)\n",
    "            C=array(centroide_cuadrado(x))\n",
    "            print(\"el centroide del cuadrado es: \",C)\n",
    "            XYi=C*A\n",
    "            print(\"la multiplicacion es: \",XYi)\n",
    "            SumaXYi=SumaXYi+XYi\n",
    "        elif len(x)==6:\n",
    "            A=area_triangulo(x)\n",
    "            Atotal=Atotal+A\n",
    "            print(\"el area del triangulo es: \",A)\n",
    "            C=array(centroide_triangulo(x))\n",
    "            print(\"el centroide del triangulo es: \",C)\n",
    "            XYi=C*A\n",
    "            print(\"la multiplicacion es: \",XYi)\n",
    "            SumaXYi=SumaXYi+XYi\n",
    "        else:\n",
    "            print(\"no es un poligono valido\")\n",
    "    elif op==2:\n",
    "        x=array(sympify(input(\"ingrese una expresion: \")))\n",
    "        if len(x)==8:\n",
    "            A=-1*area_cuadrado(x)\n",
    "            Atotal=Atotal+A\n",
    "            print(\"el area del cuadrado es: \",A)\n",
    "            C=array(centroide_cuadrado(x))\n",
    "            print(\"el centroide del cuadrado es: \",C)\n",
    "            XYi=C*A\n",
    "            print(\"la multiplicacion es: \",XYi)\n",
    "            SumaXYi=SumaXYi+XYi\n",
    "        elif len(x)==6:\n",
    "            A=-1*area_triangulo(x)\n",
    "            Atotal=Atotal+A\n",
    "            print(\"el area del triangulo es: \",A)\n",
    "            C=array(centroide_triangulo(x))\n",
    "            print(\"el centroide del triangulo es: \",C)\n",
    "            XYi=C*A\n",
    "            print(\"la multiplicacion es: \",XYi)\n",
    "            SumaXYi=SumaXYi+XYi\n",
    "        else:\n",
    "            print(\"no es un poligono valido\")\n",
    "    elif op==3:\n",
    "        print(\"el area total es: \",Atotal)\n",
    "        centroide=round((SumaXYi/Atotal).astype(float),3)\n",
    "        print(\"el centroide actual es :\",centroide)\n",
    "        In=op\n",
    "    print(\"-------------------------------\")\n",
    "    "
   ]
  },
  {
   "cell_type": "code",
   "execution_count": 116,
   "metadata": {},
   "outputs": [],
   "source": [
    "#agrea valores aun array vacio\n",
    "#asptype(int)convierte el formato del numero\n",
    "FF=array([])\n",
    "FF=append(FF,5).astype(int)\n"
   ]
  },
  {
   "cell_type": "code",
   "execution_count": null,
   "metadata": {},
   "outputs": [],
   "source": []
  }
 ],
 "metadata": {
  "kernelspec": {
   "display_name": "Python 3.10.5 64-bit (windows store)",
   "language": "python",
   "name": "python3"
  },
  "language_info": {
   "codemirror_mode": {
    "name": "ipython",
    "version": 3
   },
   "file_extension": ".py",
   "mimetype": "text/x-python",
   "name": "python",
   "nbconvert_exporter": "python",
   "pygments_lexer": "ipython3",
   "version": "3.10.5"
  },
  "orig_nbformat": 4,
  "vscode": {
   "interpreter": {
    "hash": "5c073f595cd50fd1bb1005fbf7ddb00af09bff72e60307ae6ca8f629c96f1871"
   }
  }
 },
 "nbformat": 4,
 "nbformat_minor": 2
}
